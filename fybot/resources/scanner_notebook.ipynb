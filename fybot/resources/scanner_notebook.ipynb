{
 "cells": [
  {
   "cell_type": "code",
   "execution_count": null,
   "id": "possible-deadline",
   "metadata": {},
   "outputs": [],
   "source": [
    "import pandas as pd\n",
    "import pandas_ta as ta\n",
    "import matplotlib.pyplot as plt\n",
    "import talib\n",
    "from app import *"
   ]
  },
  {
   "cell_type": "code",
   "execution_count": null,
   "id": "suspended-appendix",
   "metadata": {},
   "outputs": [],
   "source": []
  },
  {
   "cell_type": "code",
   "execution_count": null,
   "id": "local-denver",
   "metadata": {},
   "outputs": [],
   "source": [
    "# Load data\n",
    "df = pd.read_pickle(S.data_file)"
   ]
  },
  {
   "cell_type": "code",
   "execution_count": null,
   "id": "round-group",
   "metadata": {},
   "outputs": [],
   "source": [
    "df.head()"
   ]
  },
  {
   "cell_type": "code",
   "execution_count": null,
   "id": "twenty-carter",
   "metadata": {},
   "outputs": [],
   "source": [
    "%%timeit\n",
    "talib.EMA(df['AAPL']['Close'],2)"
   ]
  },
  {
   "cell_type": "code",
   "execution_count": null,
   "id": "practical-portrait",
   "metadata": {},
   "outputs": [],
   "source": [
    "%%timeit\n",
    "df['AAPL'][['Close']].apply(lambda c: talib.EMA(c, 2))"
   ]
  },
  {
   "cell_type": "code",
   "execution_count": null,
   "id": "human-invention",
   "metadata": {},
   "outputs": [],
   "source": [
    "df1 = df.xs('Close',level=1,axis=1)\n",
    "df1.head()"
   ]
  },
  {
   "cell_type": "code",
   "execution_count": null,
   "id": "dietary-wrestling",
   "metadata": {},
   "outputs": [],
   "source": [
    "%%timeit\n",
    "for c in df1.columns:\n",
    "    talib.EMA(df1[c],2)"
   ]
  },
  {
   "cell_type": "code",
   "execution_count": null,
   "id": "sustainable-element",
   "metadata": {},
   "outputs": [],
   "source": [
    "%%timeit\n",
    "df.apply(lambda c: talib.EMA(c.values, 2))"
   ]
  },
  {
   "cell_type": "code",
   "execution_count": null,
   "id": "alike-plenty",
   "metadata": {},
   "outputs": [],
   "source": [
    "%%timeit\n",
    "df.apply(lambda c: ta.ema(c, 2))\n",
    "# ta.sma(df[\"Close\"], length=10)"
   ]
  },
  {
   "cell_type": "code",
   "execution_count": null,
   "id": "racial-christianity",
   "metadata": {},
   "outputs": [],
   "source": [
    "      def ema_multiple_periods(df ,ema_list = [8, 21, 34, 55, 89]):\n",
    "        #initializes an empty data frame with empty multi-index columns\n",
    "        multi_index_cols = pd.MultiIndex.from_product([[],[]])\n",
    "        ema = pd.DataFrame(index=df.index,columns=multi_index_cols)\n",
    "        \n",
    "        for period in ema_list:\n",
    "            col = '{}{}'.format('ema', period)\n",
    "            ema = ema.join(df.apply(lambda c: talib.EMA(c.values, period)).rename(columns={'Close': col}))\n",
    "        return ema\n",
    "\n",
    "        ema_df = ema_multiple_periods(df1 ,ema_list = [8, 21, 34, 55, 89])\n",
    "# df.apply(lambda c: talib.EMA(c.values, 2))\n",
    "# df.columns\n",
    "# df.loc[:,('SYK','XXX')] = df.loc[:,('SYK','Open')]"
   ]
  },
  {
   "cell_type": "code",
   "execution_count": null,
   "id": "latest-training",
   "metadata": {
    "scrolled": false
   },
   "outputs": [],
   "source": [
    "Snapshot()"
   ]
  },
  {
   "cell_type": "markdown",
   "id": "valid-potter",
   "metadata": {},
   "source": [
    "ema"
   ]
  },
  {
   "cell_type": "code",
   "execution_count": null,
   "id": "educational-jackson",
   "metadata": {},
   "outputs": [],
   "source": [
    "    # To DO\n",
    "    # Calculate EMAs\n",
    "    # Calculate SMAs\n",
    "    # Calculate MACDs\n",
    "    \n",
    "    # TODO parametrize function arguments for variable length, e.g. a list\n",
    "    def check_rule_ema_positively_stacked(ema8,ema21,ema34,ema55, ema89):\n",
    "        \"\"\"Returns true if each previous ema is higher than the next\n",
    "            input must be in order of check e.g. 1st > 2nd > 3rd...\n",
    "\n",
    "         Args:\n",
    "             ema8  (float): numeric values\n",
    "\n",
    "         Returns:\n",
    "             True or False\n",
    "        \"\"\"\n",
    "        rules = [ema8  > ema21,\n",
    "                ema21 > ema34,\n",
    "                ema34 > ema55,\n",
    "                ema55 > ema89]\n",
    "        return all(rules)\n",
    "    \n",
    "    def check_rule_sma_fast_over_slow_crossover(sma_fast, sma_slow):\n",
    "        \"\"\"Returns True if sma_fast is now higher than sma_slow \n",
    "           in the most recent period and not in the previous\n",
    "\n",
    "        Args:\n",
    "            sma_fast (series): time series\n",
    "            sma_slow (series): time series\n",
    "\n",
    "        Returns:\n",
    "            [True or False]\n",
    "        \"\"\"\n",
    "        rules = [sma_fast[-1] > sma_slow[-1],\n",
    "             sma_fast[-2] < sma_slow[-2],]\n",
    "        return all(rules)    "
   ]
  },
  {
   "cell_type": "code",
   "execution_count": null,
   "id": "governing-accused",
   "metadata": {},
   "outputs": [],
   "source": [
    "# check_rule_ema_positively_stacked(5,4,3,2,1)\n",
    "check_rule_sma_fast_over_slow_crossover(df['AAPL']['Close'],df['AAPL']['Close'])\n"
   ]
  },
  {
   "cell_type": "code",
   "execution_count": null,
   "id": "purple-summary",
   "metadata": {},
   "outputs": [],
   "source": [
    "    def macd_filter(**kwargs):\n",
    "        df = kwargs['df']\n",
    "        direction = kwargs['direction']\n",
    "        n_periods = kwargs['n_periods']\n",
    "        \n",
    "        macd, macdsignal, macdhist = talib.MACD(df['Close'], fastperiod=12, slowperiod=26, signalperiod=9)\n",
    "        macd_cross = (macd - macdsignal) > 0\n",
    "        macd_bull_signal = macd_cross > macd_cross.shift(periods=1)\n",
    "        macd_bear_signal = macd_cross < macd_cross.shift(periods=1)\n",
    "        if direction == 'bull':\n",
    "            result = macd_bull_signal[-n_periods:].max() > 0 #check for cross in last n periods\n",
    "        elif direction == 'bear':\n",
    "            result = macd_bull_signal[-n_periods:].max() < 0 #check for cross in last n periods\n",
    "        return True if result else False\n",
    "    \n",
    "    def rsi_filter(**kwargs):  \n",
    "        df = kwargs['df']\n",
    "        rsi = talib.RSI(df['Close'], timeperiod=14)\n",
    "        result = rsi[-1] < 30\n",
    "        return True if result else False"
   ]
  },
  {
   "cell_type": "code",
   "execution_count": null,
   "id": "sporting-center",
   "metadata": {},
   "outputs": [],
   "source": [
    "data=df['AAPL']\n",
    "macd_filter(df=data, direction='bull',n_periods=5)"
   ]
  },
  {
   "cell_type": "code",
   "execution_count": null,
   "id": "square-acoustic",
   "metadata": {},
   "outputs": [],
   "source": [
    "data=df['AAPL']\n",
    "rsi_filter(df=data)"
   ]
  },
  {
   "cell_type": "code",
   "execution_count": null,
   "id": "colored-expert",
   "metadata": {},
   "outputs": [],
   "source": [
    "def ttm_squeeze(**kwargs):\n",
    "        df = kwargs['df']\n",
    "        sq = pd.DataFrame()\n",
    "        sq['20sma'] = df['Close'].rolling(window=20).mean()\n",
    "        sq['stddev'] = df['Close'].rolling(window=20).std()\n",
    "        sq['lower_band'] = sq['20sma'] - (2 * sq['stddev'])\n",
    "        sq['upper_band'] = sq['20sma'] + (2 * sq['stddev'])\n",
    "        sq['TR'] = abs(df['High'] - df['Low'])\n",
    "        sq['ATR'] = sq['TR'].rolling(window=20).mean()\n",
    "        sq['lower_keltner'] = sq['20sma'] - (sq['ATR'] * 1.5)\n",
    "        sq['upper_keltner'] = sq['20sma'] + (sq['ATR'] * 1.5)\n",
    "\n",
    "        def in_squeeze(_):\n",
    "            return _['lower_band'] > _['lower_keltner'] and \\\n",
    "                   _['upper_band'] < _['upper_keltner']\n",
    "\n",
    "        sq['squeeze_on'] = sq.apply(in_squeeze, axis=1)\n",
    "\n",
    "        if 'in_the_squeeze' in kwargs.keys():\n",
    "            if kwargs['in_the_squeeze']:\n",
    "                return sq\n",
    "\n",
    "        if sq.iloc[-3]['squeeze_on'] and not sq.iloc[-1]['squeeze_on']:\n",
    "            # is coming out the squeeze\n",
    "            return True\n",
    "        return False\n",
    "\n",
    "    def in_the_squeeze(self, **kwargs):\n",
    "        # is in the squeeze\n",
    "        sq = self.ttm_squeeze(df=kwargs['df'], in_the_squeeze=True)\n",
    "        result = True if sq.iloc[-1]['squeeze_on'] else False\n",
    "        return result"
   ]
  },
  {
   "cell_type": "code",
   "execution_count": null,
   "id": "polish-people",
   "metadata": {},
   "outputs": [],
   "source": []
  },
  {
   "cell_type": "code",
   "execution_count": null,
   "id": "unlimited-mixer",
   "metadata": {},
   "outputs": [],
   "source": []
  },
  {
   "cell_type": "code",
   "execution_count": null,
   "id": "proprietary-surgeon",
   "metadata": {},
   "outputs": [],
   "source": [
    "atr = talib.ATR(data['High'],data['Low'],data['Close'], timeperiod=20)\n",
    "upperband, middleband, lowerband = talib.BBANDS(data['Close'], timeperiod=20, nbdevup=2, nbdevdn=2, matype=0)\n",
    "macd, macdsignal, macdhist = talib.MACD(data['Close'], fastperiod=12, slowperiod=26, signalperiod=9)\n",
    "sma_fast = talib.SMA(df['Close'], timeperiod=25)\n",
    "sma_slow = talib.SMA(df['Close'], timeperiod=50)"
   ]
  },
  {
   "cell_type": "code",
   "execution_count": null,
   "id": "consecutive-skating",
   "metadata": {},
   "outputs": [],
   "source": [
    "def ema_multiple_periods(df ,ema_list = [8, 21, 34, 55, 89]):\n",
    "    #initializes an empty data frame with empty multi-index columns\n",
    "    multi_index_cols = pd.MultiIndex.from_product([[],[]])\n",
    "    ema = pd.DataFrame(index=df.index,columns=multi_index_cols)\n",
    "\n",
    "    for period in ema_list:\n",
    "        col = '{}{}'.format('ema', period)\n",
    "        ema = ema.join(df.apply(lambda c: talib.EMA(c.values, period)).rename(columns={'Close': col}))\n",
    "    return ema\n",
    "\n",
    "def sma_multiple_periods(df , sma_list = [25, 50]):\n",
    "    #initializes an empty data frame with empty multi-index columns\n",
    "    multi_index_cols = pd.MultiIndex.from_product([[],[]])\n",
    "    sma = pd.DataFrame(index=df.index,columns=multi_index_cols)\n",
    "\n",
    "    for period in sma_list:\n",
    "        col = '{}{}'.format('sma', period)\n",
    "        sma = sma.join(df.apply(lambda c: talib.SMA(c.values, period)).rename(columns={'Close': col}))\n",
    "    return sma\n",
    "\n",
    "   \n"
   ]
  },
  {
   "cell_type": "code",
   "execution_count": null,
   "id": "german-notebook",
   "metadata": {},
   "outputs": [],
   "source": [
    "data = df.xs('Close', level=1, axis=1, drop_level=False) \n",
    "ema_df = ema_multiple_periods(data,ema_list = [8, 21, 34, 55, 89])\n",
    "\n",
    "data = df.xs('Close', level=1, axis=1, drop_level=False) \n",
    "sma_df = sma_multiple_periods(data ,sma_list = [25,50])"
   ]
  },
  {
   "cell_type": "code",
   "execution_count": null,
   "id": "conservative-stock",
   "metadata": {},
   "outputs": [],
   "source": [
    "def sma_multiple_periods(df , sma_list = [25, 50]):\n",
    "    #initializes an empty data frame with empty multi-index columns\n",
    "    multi_index_cols = pd.MultiIndex.from_product([[],[]])\n",
    "    sma = pd.DataFrame(index=df.index,columns=multi_index_cols)\n",
    "\n",
    "    for period in sma_list:\n",
    "        col = '{}{}'.format('sma', period)\n",
    "        sma = sma.join(df.apply(lambda c: talib.SMA(c.values, period)).rename(columns={'Close': col}))\n",
    "    return sma"
   ]
  },
  {
   "cell_type": "code",
   "execution_count": 1,
   "id": "angry-shelter",
   "metadata": {
    "scrolled": true
   },
   "outputs": [],
   "source": [
    "import talib\n",
    "import pandas as pd\n",
    "df = pd.read_pickle('datasets/data.pkl')\n",
    "\n",
    "def atr_apply_fun(x, timeperiod=20):\n",
    "    return talib.ATR(x[x.name]['High'], x[x.name]['Low'], x[x.name]['Close'], timeperiod)\n",
    "\n",
    "def sma_apply_fun(x, timeperiod=20):\n",
    "    return talib.SMA(x[x.name]['Close'], timeperiod)\n",
    "    \n",
    "def ema_apply_fun(x, timeperiod=20):\n",
    "    return talib.EMA(x[x.name]['Close'], timeperiod)\n",
    "\n",
    "def rsi_apply_fun(x, timeperiod=14):\n",
    "    return talib.RSI(x[x.name]['Close'], timeperiod)\n",
    "\n",
    "def cci_apply_fun(x, timeperiod=14):\n",
    "    return talib.CCI(x[x.name]['High'], x[x.name]['Low'], x[x.name]['Close'], timeperiod)\n",
    "\n",
    "def macd_apply_fun(x, fastperiod=12, slowperiod=26, signalperiod=9):\n",
    "    macd, macdsignal, macdhist = talib.MACD(x[x.name]['Close'], fastperiod, slowperiod, signalperiod)\n",
    "    return macd\n",
    "\n",
    "def macdsignal_apply_fun(x, fastperiod=12, slowperiod=26, signalperiod=9):\n",
    "    macd, macdsignal, macdhist = talib.MACD(x[x.name]['Close'], fastperiod, slowperiod, signalperiod)\n",
    "    return macdsignal\n",
    "\n",
    "def macdhist_apply_fun(x, fastperiod=12, slowperiod=26, signalperiod=9):\n",
    "    macd, macdsignal, macdhist = talib.MACD(x[x.name]['Close'], fastperiod, slowperiod, signalperiod)\n",
    "    return macdhist\n",
    "\n",
    "def bband_upper_apply_fun(x, timeperiod=20, nbdevup=2, nbdevdn=2, matype=0):\n",
    "    upperband, middleband, lowerband = talib.BBANDS(x[x.name]['Close'], timeperiod, nbdevup, nbdevdn, matype)\n",
    "    return upperband\n",
    "\n",
    "def bband_lower_apply_fun(x, timeperiod=20, nbdevup=2, nbdevdn=2, matype=0):\n",
    "    upperband, middleband, lowerband = talib.BBANDS(x[x.name]['Close'], timeperiod, nbdevup, nbdevdn, matype)\n",
    "    return lowerband\n",
    "\n",
    "def bband_middle_apply_fun(x, timeperiod=20, nbdevup=2, nbdevdn=2, matype=0):\n",
    "    upperband, middleband, lowerband = talib.BBANDS(x[x.name]['Close'], timeperiod, nbdevup, nbdevdn, matype)\n",
    "    return middleband\n"
   ]
  },
  {
   "cell_type": "code",
   "execution_count": 2,
   "id": "municipal-direction",
   "metadata": {},
   "outputs": [],
   "source": [
    "\n",
    "indicators_dict = {}\n",
    "\n",
    "ema_list = [8, 21, 34, 55, 89]\n",
    "for timeperiod in ema_list:\n",
    "    k = '{}{}'.format('ema', timeperiod)\n",
    "    indicators_dict[k] = df.groupby(level=0, axis=1).apply(lambda x: ema_apply_fun(x, timeperiod))\n",
    "\n",
    "sma_list = [10, 20, 25, 50]\n",
    "for timeperiod in sma_list:\n",
    "    k = '{}{}'.format('sma', timeperiod)\n",
    "    indicators_dict[k] = df.groupby(level=0, axis=1).apply(lambda x: sma_apply_fun(x, timeperiod))\n",
    "\n",
    "indicators_dict['atr'] = df.groupby(level=0, axis=1).apply(lambda x: atr_apply_fun(x, timeperiod=20))\n",
    "indicators_dict['rsi'] = df.groupby(level=0, axis=1).apply(lambda x: rsi_apply_fun(x, timeperiod=14))\n",
    "indicators_dict['cci'] = df.groupby(level=0, axis=1).apply(lambda x: cci_apply_fun(x, timeperiod=14))\n",
    "\n",
    "indicators_dict['macd'] = df.groupby(level=0, axis=1).apply(lambda x: macd_apply_fun(x, fastperiod=12, slowperiod=26, signalperiod=9))\n",
    "indicators_dict['macdsignal'] = df.groupby(level=0, axis=1).apply(lambda x: macdsignal_apply_fun(x, fastperiod=12, slowperiod=26, signalperiod=9))\n",
    "indicators_dict['macdhist'] = df.groupby(level=0, axis=1).apply(lambda x: macdhist_apply_fun(x, fastperiod=12, slowperiod=26, signalperiod=9))\n",
    "\n",
    "indicators_dict['bband_upper'] = df.groupby(level=0, axis=1).apply(lambda x: bband_upper_apply_fun(x, timeperiod=20, nbdevup=2, nbdevdn=2, matype=0))\n",
    "indicators_dict['bband_lower'] = df.groupby(level=0, axis=1).apply(lambda x: bband_lower_apply_fun(x, timeperiod=20, nbdevup=2, nbdevdn=2, matype=0))\n",
    "indicators_dict['bband_middle'] = df.groupby(level=0, axis=1).apply(lambda x: bband_middle_apply_fun(x, timeperiod=20, nbdevup=2, nbdevdn=2, matype=0))\n",
    "\n",
    "indicators_dict['lower_keltner'] = indicators_dict['sma20'] - (indicators_dict['atr']*1.5)\n",
    "indicators_dict['upper_keltner'] = indicators_dict['sma20'] + (indicators_dict['atr']*1.5)"
   ]
  },
  {
   "cell_type": "code",
   "execution_count": 3,
   "id": "religious-shower",
   "metadata": {
    "scrolled": false
   },
   "outputs": [
    {
     "data": {
      "text/plain": [
       "dict_keys(['ema8', 'ema21', 'ema34', 'ema55', 'ema89', 'sma10', 'sma20', 'sma25', 'sma50', 'atr', 'rsi', 'cci', 'macd', 'macdsignal', 'macdhist', 'bband_upper', 'bband_lower', 'bband_middle', 'lower_keltner', 'upper_keltner'])"
      ]
     },
     "execution_count": 3,
     "metadata": {},
     "output_type": "execute_result"
    }
   ],
   "source": [
    "indicators_dict.keys()"
   ]
  },
  {
   "cell_type": "code",
   "execution_count": 4,
   "id": "naked-melbourne",
   "metadata": {},
   "outputs": [],
   "source": [
    "# pd.concat(indicators_dict, axis=1).swaplevel(0,1,axis=1).to_csv('~/downloads/postprocess.csv')\n",
    "# s = ['AAPL']\n",
    "# plt.figure(figsize=(20,10))\n",
    "# plt.plot(indicators_dict['lower_keltner'][s])\n",
    "# plt.plot(indicators_dict['upper_keltner'][s])\n",
    "# plt.plot(indicators_dict['sma20'][s])\n",
    "# plt.plot(df['AAPL']['Close'])"
   ]
  },
  {
   "cell_type": "code",
   "execution_count": null,
   "id": "certain-hamburg",
   "metadata": {},
   "outputs": [],
   "source": []
  },
  {
   "cell_type": "code",
   "execution_count": null,
   "id": "located-dream",
   "metadata": {},
   "outputs": [],
   "source": []
  },
  {
   "cell_type": "code",
   "execution_count": null,
   "id": "promising-brake",
   "metadata": {},
   "outputs": [],
   "source": []
  },
  {
   "cell_type": "code",
   "execution_count": 5,
   "id": "missing-archive",
   "metadata": {},
   "outputs": [],
   "source": [
    "def check_rule_ema_stacked(indicators_dict):\n",
    "    ema_periods = sorted([int(k.replace('ema','')) for k in indicators_dict.keys() if 'ema' in k])\n",
    "    \n",
    "    df = 1 #initialize a df as True\n",
    "    for i in range((len(ema_periods)-1)):\n",
    "        k1 = '{}{}'.format('ema',ema_periods[i])\n",
    "        k2 = '{}{}'.format('ema',ema_periods[i+1])\n",
    "        df1 = indicators_dict[k1] > indicators_dict[k2]\n",
    "        df = df*(df1.astype(int))\n",
    "    return df.astype(bool)\n",
    "\n",
    "def check_rule_sma_crossover(indicators_dict, fast=25, slow=50, bull=True):\n",
    "    k_fast = '{}{}'.format('sma', fast)\n",
    "    k_slow = '{}{}'.format('sma', slow)\n",
    "    if bull:\n",
    "        df1 = indicators_dict[k_fast] > indicators_dict[k_slow]\n",
    "        df2 = indicators_dict[k_fast].shift(1) < indicators_dict[k_slow].shift(1)\n",
    "    else:\n",
    "        df1 = ~(indicators_dict[k_fast] > indicators_dict[k_slow])\n",
    "        df2 = ~(indicators_dict[k_fast].shift(1) < indicators_dict[k_slow].shift(1))\n",
    "    return df1.astype(int).mul(df2.astype(int),axis=1).astype(bool)\n",
    "\n",
    "def check_rule_in_squeeze(indicators_dict):\n",
    "    df1 = (indicators_dict['bband_lower'] > indicators_dict['lower_keltner'])\n",
    "    df2 = (indicators_dict['bband_upper'] < indicators_dict['upper_keltner'])\n",
    "    df =  df1.astype(int).mul(df2.astype(int), axis=0)\n",
    "    return df.astype(bool)\n",
    "\n",
    "def check_rule_coming_out_squeeze(squeeze_df):\n",
    "    df1 = (indicators_dict['bband_lower'] > indicators_dict['lower_keltner'])\n",
    "    df2 = (indicators_dict['bband_upper'] < indicators_dict['upper_keltner'])\n",
    "    return df1.astype(int).mul(df2.astype(int), axis=0).astype(bool)\n",
    "\n",
    "def check_rule_rsi(indicators_dict, bull = True):\n",
    "    overbought = indicators_dict['rsi'] > 70\n",
    "    oversold = indicators_dict['rsi'] < 30\n",
    "    return oversold if bull else overbought\n",
    "\n",
    "\n",
    "def check_rule_macd_crossover(indicators_dict, bull=True):\n",
    "    if bull:\n",
    "        df1 = indicators_dict['macd'] > indicators_dict['macdsignal']\n",
    "        df2 = indicators_dict['macd'].shift(1) < indicators_dict['macdsignal'].shift(1)\n",
    "    else:\n",
    "        df1 = ~(indicators_dict['macd'] > indicators_dict['macdsignal'])\n",
    "        df2 = ~(indicators_dict['macd'].shift(1) < indicators_dict['macdsignal'].shift(1))\n",
    "    return df1.astype(int).mul(df2.astype(int),axis=1).astype(bool)\n",
    "\n"
   ]
  },
  {
   "cell_type": "code",
   "execution_count": 6,
   "id": "voluntary-medium",
   "metadata": {},
   "outputs": [
    {
     "data": {
      "text/html": [
       "<div>\n",
       "<style scoped>\n",
       "    .dataframe tbody tr th:only-of-type {\n",
       "        vertical-align: middle;\n",
       "    }\n",
       "\n",
       "    .dataframe tbody tr th {\n",
       "        vertical-align: top;\n",
       "    }\n",
       "\n",
       "    .dataframe thead th {\n",
       "        text-align: right;\n",
       "    }\n",
       "</style>\n",
       "<table border=\"1\" class=\"dataframe\">\n",
       "  <thead>\n",
       "    <tr style=\"text-align: right;\">\n",
       "      <th></th>\n",
       "      <th>ttm_in_squeeze</th>\n",
       "      <th>ttm_coming_out_squeeze</th>\n",
       "      <th>ema_positively_stacked</th>\n",
       "      <th>sma_crossover_bull</th>\n",
       "      <th>rsi_oversold</th>\n",
       "      <th>rsi_overbought</th>\n",
       "      <th>macd_cross_bull</th>\n",
       "      <th>macd_cross_bear</th>\n",
       "    </tr>\n",
       "    <tr>\n",
       "      <th>symbol</th>\n",
       "      <th></th>\n",
       "      <th></th>\n",
       "      <th></th>\n",
       "      <th></th>\n",
       "      <th></th>\n",
       "      <th></th>\n",
       "      <th></th>\n",
       "      <th></th>\n",
       "    </tr>\n",
       "  </thead>\n",
       "  <tbody>\n",
       "    <tr>\n",
       "      <th>A</th>\n",
       "      <td>False</td>\n",
       "      <td>False</td>\n",
       "      <td>False</td>\n",
       "      <td>False</td>\n",
       "      <td>False</td>\n",
       "      <td>False</td>\n",
       "      <td>False</td>\n",
       "      <td>False</td>\n",
       "    </tr>\n",
       "    <tr>\n",
       "      <th>AAL</th>\n",
       "      <td>False</td>\n",
       "      <td>False</td>\n",
       "      <td>True</td>\n",
       "      <td>False</td>\n",
       "      <td>False</td>\n",
       "      <td>False</td>\n",
       "      <td>False</td>\n",
       "      <td>False</td>\n",
       "    </tr>\n",
       "    <tr>\n",
       "      <th>AAP</th>\n",
       "      <td>False</td>\n",
       "      <td>False</td>\n",
       "      <td>True</td>\n",
       "      <td>False</td>\n",
       "      <td>False</td>\n",
       "      <td>False</td>\n",
       "      <td>False</td>\n",
       "      <td>False</td>\n",
       "    </tr>\n",
       "    <tr>\n",
       "      <th>AAPL</th>\n",
       "      <td>False</td>\n",
       "      <td>False</td>\n",
       "      <td>False</td>\n",
       "      <td>False</td>\n",
       "      <td>False</td>\n",
       "      <td>False</td>\n",
       "      <td>False</td>\n",
       "      <td>False</td>\n",
       "    </tr>\n",
       "    <tr>\n",
       "      <th>ABBV</th>\n",
       "      <td>True</td>\n",
       "      <td>False</td>\n",
       "      <td>True</td>\n",
       "      <td>False</td>\n",
       "      <td>False</td>\n",
       "      <td>False</td>\n",
       "      <td>False</td>\n",
       "      <td>False</td>\n",
       "    </tr>\n",
       "    <tr>\n",
       "      <th>...</th>\n",
       "      <td>...</td>\n",
       "      <td>...</td>\n",
       "      <td>...</td>\n",
       "      <td>...</td>\n",
       "      <td>...</td>\n",
       "      <td>...</td>\n",
       "      <td>...</td>\n",
       "      <td>...</td>\n",
       "    </tr>\n",
       "    <tr>\n",
       "      <th>YUM</th>\n",
       "      <td>True</td>\n",
       "      <td>False</td>\n",
       "      <td>False</td>\n",
       "      <td>False</td>\n",
       "      <td>False</td>\n",
       "      <td>False</td>\n",
       "      <td>False</td>\n",
       "      <td>False</td>\n",
       "    </tr>\n",
       "    <tr>\n",
       "      <th>ZBH</th>\n",
       "      <td>True</td>\n",
       "      <td>False</td>\n",
       "      <td>False</td>\n",
       "      <td>False</td>\n",
       "      <td>False</td>\n",
       "      <td>False</td>\n",
       "      <td>False</td>\n",
       "      <td>False</td>\n",
       "    </tr>\n",
       "    <tr>\n",
       "      <th>ZBRA</th>\n",
       "      <td>False</td>\n",
       "      <td>False</td>\n",
       "      <td>True</td>\n",
       "      <td>False</td>\n",
       "      <td>False</td>\n",
       "      <td>False</td>\n",
       "      <td>False</td>\n",
       "      <td>False</td>\n",
       "    </tr>\n",
       "    <tr>\n",
       "      <th>ZION</th>\n",
       "      <td>False</td>\n",
       "      <td>False</td>\n",
       "      <td>True</td>\n",
       "      <td>False</td>\n",
       "      <td>False</td>\n",
       "      <td>False</td>\n",
       "      <td>False</td>\n",
       "      <td>False</td>\n",
       "    </tr>\n",
       "    <tr>\n",
       "      <th>ZTS</th>\n",
       "      <td>False</td>\n",
       "      <td>False</td>\n",
       "      <td>False</td>\n",
       "      <td>False</td>\n",
       "      <td>False</td>\n",
       "      <td>False</td>\n",
       "      <td>False</td>\n",
       "      <td>False</td>\n",
       "    </tr>\n",
       "  </tbody>\n",
       "</table>\n",
       "<p>505 rows × 8 columns</p>\n",
       "</div>"
      ],
      "text/plain": [
       "        ttm_in_squeeze  ttm_coming_out_squeeze  ema_positively_stacked  \\\n",
       "symbol                                                                   \n",
       "A                False                   False                   False   \n",
       "AAL              False                   False                    True   \n",
       "AAP              False                   False                    True   \n",
       "AAPL             False                   False                   False   \n",
       "ABBV              True                   False                    True   \n",
       "...                ...                     ...                     ...   \n",
       "YUM               True                   False                   False   \n",
       "ZBH               True                   False                   False   \n",
       "ZBRA             False                   False                    True   \n",
       "ZION             False                   False                    True   \n",
       "ZTS              False                   False                   False   \n",
       "\n",
       "        sma_crossover_bull  rsi_oversold  rsi_overbought  macd_cross_bull  \\\n",
       "symbol                                                                      \n",
       "A                    False         False           False            False   \n",
       "AAL                  False         False           False            False   \n",
       "AAP                  False         False           False            False   \n",
       "AAPL                 False         False           False            False   \n",
       "ABBV                 False         False           False            False   \n",
       "...                    ...           ...             ...              ...   \n",
       "YUM                  False         False           False            False   \n",
       "ZBH                  False         False           False            False   \n",
       "ZBRA                 False         False           False            False   \n",
       "ZION                 False         False           False            False   \n",
       "ZTS                  False         False           False            False   \n",
       "\n",
       "        macd_cross_bear  \n",
       "symbol                   \n",
       "A                 False  \n",
       "AAL               False  \n",
       "AAP               False  \n",
       "AAPL              False  \n",
       "ABBV              False  \n",
       "...                 ...  \n",
       "YUM               False  \n",
       "ZBH               False  \n",
       "ZBRA              False  \n",
       "ZION              False  \n",
       "ZTS               False  \n",
       "\n",
       "[505 rows x 8 columns]"
      ]
     },
     "execution_count": 6,
     "metadata": {},
     "output_type": "execute_result"
    }
   ],
   "source": [
    "signals = pd.DataFrame()\n",
    "signals.index.set_names('symbol',inplace=True)\n",
    "\n",
    "df = check_rule_in_squeeze(indicators_dict)\n",
    "signals.loc[:,'ttm_in_squeeze'] = df.iloc[-1]\n",
    "signals.loc[:,'ttm_coming_out_squeeze'] = (~df.iloc[-1] ) & (df.iloc[-3])\n",
    "\n",
    "df = check_rule_ema_stacked(indicators_dict)\n",
    "signals.loc[:,'ema_positively_stacked'] = df.iloc[-1]\n",
    "\n",
    "df = check_rule_sma_crossover(indicators_dict, fast=25, slow=50, bull=True)\n",
    "signals.loc[:,'sma_crossover_bull'] = df.iloc[-1]\n",
    "\n",
    "df = check_rule_rsi(indicators_dict, bull=True)\n",
    "signals.loc[:,'rsi_oversold'] = df.iloc[-1]\n",
    "\n",
    "df = check_rule_rsi(indicators_dict, bull=False)\n",
    "signals.loc[:,'rsi_overbought'] = df.iloc[-1]\n",
    "\n",
    "df = check_rule_macd_crossover(indicators_dict, bull=True)\n",
    "signals.loc[:,'macd_cross_bull'] = df.iloc[-1]\n",
    "\n",
    "df = check_rule_macd_crossover(indicators_dict, bull=False)\n",
    "signals.loc[:,'macd_cross_bear'] = df.iloc[-1]\n",
    "\n",
    "signals"
   ]
  },
  {
   "cell_type": "code",
   "execution_count": 79,
   "id": "tribal-sender",
   "metadata": {},
   "outputs": [
    {
     "data": {
      "text/plain": [
       "symbol\n",
       "NOC     True\n",
       "PAYX    True\n",
       "dtype: bool"
      ]
     },
     "execution_count": 79,
     "metadata": {},
     "output_type": "execute_result"
    }
   ],
   "source": [
    "checkbox_a1 = True\n",
    "checkbox_a2 = True\n",
    "checkbox_a3 = False\n",
    "checkbox_a4 = False\n",
    "checkbox_a5 = True\n",
    "checkbox_a6 = False\n",
    "checkbox_b1 = False\n",
    "checkbox_b2 = False\n",
    "checkbox_b3 = False\n",
    "\n",
    "\n",
    "\n"
   ]
  },
  {
   "cell_type": "code",
   "execution_count": 87,
   "id": "transsexual-alignment",
   "metadata": {},
   "outputs": [],
   "source": [
    "signals.index\n",
    "filter_results = pd.DataFrame(index=signals.index)\n",
    "filter_results.loc[:,'initialized'] = 1"
   ]
  },
  {
   "cell_type": "code",
   "execution_count": 94,
   "id": "coupled-mission",
   "metadata": {},
   "outputs": [
    {
     "ename": "SyntaxError",
     "evalue": "invalid syntax (<ipython-input-94-450307c39203>, line 1)",
     "output_type": "error",
     "traceback": [
      "\u001b[0;36m  File \u001b[0;32m\"<ipython-input-94-450307c39203>\"\u001b[0;36m, line \u001b[0;32m1\u001b[0m\n\u001b[0;31m    filter_results.mul(signals['ttm_in_squeeze', axis=1])\u001b[0m\n\u001b[0m                                                     ^\u001b[0m\n\u001b[0;31mSyntaxError\u001b[0m\u001b[0;31m:\u001b[0m invalid syntax\n"
     ]
    }
   ],
   "source": [
    "filter_results.mul(signals['ttm_in_squeeze', axis=1])"
   ]
  },
  {
   "cell_type": "code",
   "execution_count": 140,
   "id": "respected-young",
   "metadata": {},
   "outputs": [
    {
     "data": {
      "text/plain": [
       "symbol\n",
       "A       1\n",
       "AAL     1\n",
       "AAP     1\n",
       "AAPL    1\n",
       "ABBV    1\n",
       "       ..\n",
       "YUM     1\n",
       "ZBH     1\n",
       "ZBRA    1\n",
       "ZION    1\n",
       "ZTS     1\n",
       "Name: scanner, Length: 505, dtype: int64"
      ]
     },
     "execution_count": 140,
     "metadata": {},
     "output_type": "execute_result"
    }
   ],
   "source": [
    "filter_results\n",
    "filter_results[:]=1\n"
   ]
  },
  {
   "cell_type": "code",
   "execution_count": 143,
   "id": "headed-uganda",
   "metadata": {
    "scrolled": true
   },
   "outputs": [
    {
     "data": {
      "text/plain": [
       "symbol\n",
       "A       0\n",
       "AAL     0\n",
       "AAP     0\n",
       "AAPL    0\n",
       "ABBV    1\n",
       "       ..\n",
       "YUM     1\n",
       "ZBH     1\n",
       "ZBRA    0\n",
       "ZION    0\n",
       "ZTS     0\n",
       "Length: 505, dtype: int64"
      ]
     },
     "execution_count": 143,
     "metadata": {},
     "output_type": "execute_result"
    }
   ],
   "source": [
    "filter_results.mul(signals['ttm_in_squeeze'], axis=0)"
   ]
  },
  {
   "cell_type": "code",
   "execution_count": null,
   "id": "worthy-luxury",
   "metadata": {},
   "outputs": [],
   "source": []
  },
  {
   "cell_type": "code",
   "execution_count": null,
   "id": "opposite-rebecca",
   "metadata": {},
   "outputs": [],
   "source": []
  },
  {
   "cell_type": "code",
   "execution_count": null,
   "id": "sporting-thompson",
   "metadata": {},
   "outputs": [],
   "source": []
  },
  {
   "cell_type": "code",
   "execution_count": 130,
   "id": "every-spouse",
   "metadata": {},
   "outputs": [],
   "source": [
    "new_df = new_df.mul(signals['ttm_in_squeeze'],axis=0)"
   ]
  },
  {
   "cell_type": "code",
   "execution_count": 131,
   "id": "mediterranean-reporter",
   "metadata": {},
   "outputs": [],
   "source": [
    "new_df = new_df.mul(signals['ema_positively_stacked'],axis=0)"
   ]
  },
  {
   "cell_type": "code",
   "execution_count": 134,
   "id": "lucky-laundry",
   "metadata": {},
   "outputs": [
    {
     "data": {
      "text/html": [
       "<div>\n",
       "<style scoped>\n",
       "    .dataframe tbody tr th:only-of-type {\n",
       "        vertical-align: middle;\n",
       "    }\n",
       "\n",
       "    .dataframe tbody tr th {\n",
       "        vertical-align: top;\n",
       "    }\n",
       "\n",
       "    .dataframe thead th {\n",
       "        text-align: right;\n",
       "    }\n",
       "</style>\n",
       "<table border=\"1\" class=\"dataframe\">\n",
       "  <thead>\n",
       "    <tr style=\"text-align: right;\">\n",
       "      <th></th>\n",
       "      <th>init</th>\n",
       "    </tr>\n",
       "    <tr>\n",
       "      <th>symbol</th>\n",
       "      <th></th>\n",
       "    </tr>\n",
       "  </thead>\n",
       "  <tbody>\n",
       "    <tr>\n",
       "      <th>A</th>\n",
       "      <td>0</td>\n",
       "    </tr>\n",
       "    <tr>\n",
       "      <th>AAL</th>\n",
       "      <td>0</td>\n",
       "    </tr>\n",
       "    <tr>\n",
       "      <th>AAP</th>\n",
       "      <td>0</td>\n",
       "    </tr>\n",
       "    <tr>\n",
       "      <th>AAPL</th>\n",
       "      <td>0</td>\n",
       "    </tr>\n",
       "    <tr>\n",
       "      <th>ABBV</th>\n",
       "      <td>1</td>\n",
       "    </tr>\n",
       "    <tr>\n",
       "      <th>...</th>\n",
       "      <td>...</td>\n",
       "    </tr>\n",
       "    <tr>\n",
       "      <th>YUM</th>\n",
       "      <td>0</td>\n",
       "    </tr>\n",
       "    <tr>\n",
       "      <th>ZBH</th>\n",
       "      <td>0</td>\n",
       "    </tr>\n",
       "    <tr>\n",
       "      <th>ZBRA</th>\n",
       "      <td>0</td>\n",
       "    </tr>\n",
       "    <tr>\n",
       "      <th>ZION</th>\n",
       "      <td>0</td>\n",
       "    </tr>\n",
       "    <tr>\n",
       "      <th>ZTS</th>\n",
       "      <td>0</td>\n",
       "    </tr>\n",
       "  </tbody>\n",
       "</table>\n",
       "<p>505 rows × 1 columns</p>\n",
       "</div>"
      ],
      "text/plain": [
       "        init\n",
       "symbol      \n",
       "A          0\n",
       "AAL        0\n",
       "AAP        0\n",
       "AAPL       0\n",
       "ABBV       1\n",
       "...      ...\n",
       "YUM        0\n",
       "ZBH        0\n",
       "ZBRA       0\n",
       "ZION       0\n",
       "ZTS        0\n",
       "\n",
       "[505 rows x 1 columns]"
      ]
     },
     "execution_count": 134,
     "metadata": {},
     "output_type": "execute_result"
    }
   ],
   "source": []
  },
  {
   "cell_type": "code",
   "execution_count": null,
   "id": "planned-porcelain",
   "metadata": {},
   "outputs": [],
   "source": []
  }
 ],
 "metadata": {
  "kernelspec": {
   "display_name": "Python 3",
   "language": "python",
   "name": "python3"
  },
  "language_info": {
   "codemirror_mode": {
    "name": "ipython",
    "version": 3
   },
   "file_extension": ".py",
   "mimetype": "text/x-python",
   "name": "python",
   "nbconvert_exporter": "python",
   "pygments_lexer": "ipython3",
   "version": "3.8.5"
  }
 },
 "nbformat": 4,
 "nbformat_minor": 5
}
